{
 "cells": [
  {
   "cell_type": "code",
   "execution_count": null,
   "metadata": {},
   "outputs": [],
   "source": []
  },
  {
   "cell_type": "markdown",
   "metadata": {},
   "source": [
    "### Black Scholes Model"
   ]
  },
  {
   "cell_type": "code",
   "execution_count": 1,
   "metadata": {
    "tags": []
   },
   "outputs": [],
   "source": [
    "import math\n",
    "import pandas as pd\n",
    "import numpy as np\n",
    "import seaborn as sns\n",
    "import plotly.express as px\n",
    "from scipy.stats import skew, kurtosis\n",
    "from math import log, exp, sqrt, pow"
   ]
  },
  {
   "cell_type": "markdown",
   "metadata": {},
   "source": [
    "**Property of normal distribution**"
   ]
  },
  {
   "cell_type": "markdown",
   "metadata": {},
   "source": [
    "$$ ln S_T \\sim \\phi \\left[ ln S_0 + \\left(\\mu - \\frac{\\sigma^2}{2}\\right) T, \\sigma^2 T\\right]$$"
   ]
  },
  {
   "cell_type": "markdown",
   "metadata": {},
   "source": [
    "**There is a 95% probability that a normal variable will fall within 1.96 standard deviations**"
   ]
  },
  {
   "cell_type": "markdown",
   "metadata": {},
   "source": [
    "**The 95% confidence interval of the normal variable will be between (mean - 1.96 stdev) and (mean+1.96 stdev)**  "
   ]
  },
  {
   "cell_type": "markdown",
   "metadata": {},
   "source": [
    "## Example 15.1"
   ]
  },
  {
   "cell_type": "markdown",
   "metadata": {},
   "source": [
    "**Consider a stock with an initial price of 40, an expected return of 16\\% per annum, and a volatility of 20%. What is the 95% confidence interval of the stock price in 6 months?**"
   ]
  },
  {
   "cell_type": "code",
   "execution_count": 2,
   "metadata": {
    "tags": []
   },
   "outputs": [],
   "source": [
    "# Example 15.1\n",
    "S_0 = 40\n",
    "mu = 0.16\n",
    "sigma = 0.2\n",
    "T = 6/12"
   ]
  },
  {
   "cell_type": "code",
   "execution_count": 3,
   "metadata": {
    "tags": []
   },
   "outputs": [
    {
     "name": "stdout",
     "output_type": "stream",
     "text": [
      "3.758879454113936 0.14142135623730953\n"
     ]
    }
   ],
   "source": [
    "mean = log(S_0) + (mu - pow(sigma, 2)/2)*T\n",
    "stdev = sigma * sqrt(T)\n",
    "print(mean, stdev)"
   ]
  },
  {
   "cell_type": "code",
   "execution_count": 4,
   "metadata": {
    "tags": []
   },
   "outputs": [
    {
     "name": "stdout",
     "output_type": "stream",
     "text": [
      "32.51474230558975 56.603188205344175\n"
     ]
    }
   ],
   "source": [
    "lower_bound = exp(mean - 1.96*stdev)\n",
    "upper_bound = exp(mean + 1.96*stdev)\n",
    "print(lower_bound, upper_bound)"
   ]
  },
  {
   "cell_type": "markdown",
   "metadata": {},
   "source": [
    "## Example 15.6"
   ]
  },
  {
   "cell_type": "markdown",
   "metadata": {},
   "source": [
    "**The stock price 6 months from the expiration of an option is 42, exercise price of the option is 40, risk-free rate is 10% and volatility is 20%. What should be the call and put priced at?**"
   ]
  },
  {
   "cell_type": "code",
   "execution_count": 5,
   "metadata": {
    "tags": []
   },
   "outputs": [],
   "source": [
    "from scipy.stats import norm"
   ]
  },
  {
   "cell_type": "code",
   "execution_count": 6,
   "metadata": {
    "tags": []
   },
   "outputs": [],
   "source": [
    "S_0 = 42\n",
    "K = 40\n",
    "r = 0.1\n",
    "sigma = 0.2\n",
    "T = 0.5"
   ]
  },
  {
   "cell_type": "code",
   "execution_count": 7,
   "metadata": {
    "tags": []
   },
   "outputs": [
    {
     "name": "stdout",
     "output_type": "stream",
     "text": [
      "0.7692626281060315 0.6278412718687221\n"
     ]
    }
   ],
   "source": [
    "d1 = (log(S_0/K)+(r + sigma**2/2)*T)/(sigma * sqrt(T))\n",
    "d2 = (log(S_0/K)+(r - sigma**2/2)*T)/(sigma * sqrt(T))\n",
    "print(d1, d2)"
   ]
  },
  {
   "cell_type": "code",
   "execution_count": 8,
   "metadata": {
    "tags": []
   },
   "outputs": [
    {
     "name": "stdout",
     "output_type": "stream",
     "text": [
      "4.759422392871532\n"
     ]
    }
   ],
   "source": [
    "c = S_0* norm.cdf(d1) - K*exp(-r*T)*norm.cdf(d2)\n",
    "print(c)"
   ]
  },
  {
   "cell_type": "code",
   "execution_count": 9,
   "metadata": {
    "tags": []
   },
   "outputs": [],
   "source": [
    "p = K * exp(-r*T)*norm.cdf(-d2) - S_0*norm.cdf(-d1)"
   ]
  },
  {
   "cell_type": "code",
   "execution_count": 10,
   "metadata": {
    "tags": []
   },
   "outputs": [
    {
     "data": {
      "text/plain": [
       "0.8085993729000922"
      ]
     },
     "execution_count": 10,
     "metadata": {},
     "output_type": "execute_result"
    }
   ],
   "source": [
    "p"
   ]
  },
  {
   "cell_type": "markdown",
   "metadata": {},
   "source": [
    "### Now let's compare that with your Black-Schole Model Implementation"
   ]
  },
  {
   "cell_type": "markdown",
   "metadata": {},
   "source": [
    "***That is, use your OO Black-Scholes model implementation to calculate the price of the above options. Make sure they reproduce the same answer***"
   ]
  },
  {
   "cell_type": "markdown",
   "metadata": {},
   "source": [
    "***Import your library***"
   ]
  },
  {
   "cell_type": "code",
   "execution_count": 11,
   "metadata": {
    "scrolled": true,
    "tags": []
   },
   "outputs": [],
   "source": [
    "from blackscholes_model import BlackScholesModel"
   ]
  },
  {
   "cell_type": "markdown",
   "metadata": {},
   "source": [
    "***Question 1: First create a Stock object with the spot_price and the sigma***"
   ]
  },
  {
   "cell_type": "code",
   "execution_count": 12,
   "metadata": {
    "tags": []
   },
   "outputs": [],
   "source": [
    "# Type your code here\n",
    "import datetime\n",
    "\n",
    "from financial_option import *\n",
    "\n",
    "from stock import Stock\n",
    "\n",
    "stock = Stock(opt=None, db_connection=None, ticker='Test', spot_price=42, sigma=0.2)"
   ]
  },
  {
   "cell_type": "markdown",
   "metadata": {},
   "source": [
    "***Question 2: Create instance of the model***"
   ]
  },
  {
   "cell_type": "code",
   "execution_count": 13,
   "metadata": {
    "tags": []
   },
   "outputs": [
    {
     "name": "stdout",
     "output_type": "stream",
     "text": [
      "Instance created of Black-Scholes Model...\n"
     ]
    }
   ],
   "source": [
    "# arguments for model\n",
    "pricing_date = datetime.datetime.now()\n",
    "risk_free_rate = 0.1\n",
    "\n",
    "# initialize the BlackScholesModel\n",
    "model = BlackScholesModel(pricing_date, risk_free_rate)\n",
    "print(\"Instance created of Black-Scholes Model...\")"
   ]
  },
  {
   "cell_type": "markdown",
   "metadata": {},
   "source": [
    "***Question 3: Now call your model calc_model_price to calculate the above options***"
   ]
  },
  {
   "cell_type": "code",
   "execution_count": 14,
   "metadata": {
    "tags": []
   },
   "outputs": [
    {
     "name": "stdout",
     "output_type": "stream",
     "text": [
      "Calculated Call Option Price:  4.759422392871532\n",
      "Calculated Put Option Price:  0.8085993729000922\n"
     ]
    }
   ],
   "source": [
    "# create European call and put option objects with the time_to_expiry and the strike price\n",
    "call_option = EuropeanCallOption(stock, time_to_expiry=0.5, strike=40)\n",
    "put_option = EuropeanPutOption(stock, time_to_expiry=0.5, strike=40)\n",
    "\n",
    "# calculate call option price using the Black-Scholes model\n",
    "call_price = model.calc_model_price(call_option)\n",
    "print(\"Calculated Call Option Price:\", call_price)\n",
    "\n",
    "# calculate put option price using the Black-Scholes model\n",
    "put_price = model.calc_model_price(put_option)\n",
    "print(\"Calculated Put Option Price:\", put_price)"
   ]
  },
  {
   "cell_type": "markdown",
   "metadata": {},
   "source": [
    "***Question 4: Now call your model to calculate ALL the greeks for both options***"
   ]
  },
  {
   "cell_type": "code",
   "execution_count": 17,
   "metadata": {
    "tags": []
   },
   "outputs": [
    {
     "name": "stdout",
     "output_type": "stream",
     "text": [
      "Printing Greeks for Call Option...\n",
      "Delta:  0.779131290942669\n",
      "Gamma:  0.04996267040591185\n",
      "Theta:  -4.559092194592627\n",
      "Vega:  8.813415059602853\n",
      "\n",
      "Printing Greeks for Put Option...\n",
      "Delta:  -0.22086870905733103\n",
      "Gamma:  0.04996267040591185\n",
      "Theta:  1.0584711857367115\n",
      "Vega:  8.813415059602853\n"
     ]
    }
   ],
   "source": [
    "# calculate all the greeks for call option first\n",
    "call_delta = model.calc_delta(call_option)\n",
    "call_gamma = model.calc_gamma(call_option)\n",
    "call_theta = model.calc_theta(call_option)\n",
    "call_vega = model.calc_vega(call_option)\n",
    "\n",
    "# print the values of the greeks for the call options\n",
    "print(\"Printing Greeks for Call Option...\")\n",
    "print(\"Delta: \", call_delta)\n",
    "print(\"Gamma: \", call_gamma)\n",
    "print(\"Theta: \", call_theta)\n",
    "print(\"Vega: \", call_vega)\n",
    "\n",
    "# calculate all the greeks for put option next\n",
    "put_delta = model.calc_delta(put_option)\n",
    "put_gamma = model.calc_gamma(put_option)\n",
    "put_theta = model.calc_theta(put_option)\n",
    "put_vega = model.calc_vega(put_option)\n",
    "\n",
    "# print the values of the greeks for the call options\n",
    "print(\"\\nPrinting Greeks for Put Option...\")\n",
    "print(\"Delta: \", put_delta)\n",
    "print(\"Gamma: \", put_gamma)\n",
    "print(\"Theta: \", put_theta)\n",
    "print(\"Vega: \", put_vega)"
   ]
  }
 ],
 "metadata": {
  "kernelspec": {
   "display_name": "Python 3 (ipykernel)",
   "language": "python",
   "name": "python3"
  },
  "language_info": {
   "codemirror_mode": {
    "name": "ipython",
    "version": 3
   },
   "file_extension": ".py",
   "mimetype": "text/x-python",
   "name": "python",
   "nbconvert_exporter": "python",
   "pygments_lexer": "ipython3",
   "version": "3.11.4"
  }
 },
 "nbformat": 4,
 "nbformat_minor": 4
}
